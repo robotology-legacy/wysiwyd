{
 "cells": [
  {
   "cell_type": "code",
   "execution_count": 1,
   "metadata": {
    "collapsed": false
   },
   "outputs": [],
   "source": [
    "import matplotlib.pyplot as plt\n",
    "import pylab as pb\n",
    "import sys \n",
    "from sys import executable\n",
    "import subprocess\n",
    "from subprocess import Popen, PIPE\n",
    "import pickle\n",
    "import os\n",
    "from os import listdir, walk, system\n",
    "from os.path import isfile, join, isdir\n",
    "import numpy\n",
    "import time\n",
    "import operator\n",
    "import numpy as np\n",
    "import datetime\n",
    "import signal\n",
    "import readline\n",
    "\n"
   ]
  },
  {
   "cell_type": "code",
   "execution_count": 2,
   "metadata": {
    "collapsed": true
   },
   "outputs": [],
   "source": [
    "currDir = '/home/daniel/WYSIWYD_PROJECT/wysiwyd/main/src/modules/samRelated/SAM/Dev'"
   ]
  },
  {
   "cell_type": "code",
   "execution_count": 3,
   "metadata": {
    "collapsed": false
   },
   "outputs": [
    {
     "name": "stdout",
     "output_type": "stream",
     "text": [
      "ipython /home/daniel/WYSIWYD_PROJECT/wysiwyd/main/src/modules/samRelated/SAM/Dev/test.py\n"
     ]
    }
   ],
   "source": [
    "cmd = 'ipython ' + currDir + '/test.py'\n",
    "print cmd"
   ]
  },
  {
   "cell_type": "code",
   "execution_count": 4,
   "metadata": {
    "collapsed": true
   },
   "outputs": [],
   "source": [
    "command = \"bash -c \\\"\" + cmd + \"; exec bash\\\"\""
   ]
  },
  {
   "cell_type": "code",
   "execution_count": 5,
   "metadata": {
    "collapsed": true
   },
   "outputs": [],
   "source": [
    "windowed = False"
   ]
  },
  {
   "cell_type": "code",
   "execution_count": 6,
   "metadata": {
    "collapsed": true
   },
   "outputs": [],
   "source": [
    "if(windowed):\n",
    "    c = subprocess.Popen(['xterm', '-e', command], shell=False)\n",
    "else:\n",
    "    c = subprocess.Popen([cmd], shell=True, stdout=subprocess.PIPE, stderr=subprocess.PIPE)"
   ]
  },
  {
   "cell_type": "code",
   "execution_count": 7,
   "metadata": {
    "collapsed": false
   },
   "outputs": [
    {
     "name": "stdout",
     "output_type": "stream",
     "text": [
      "None\n"
     ]
    }
   ],
   "source": [
    "value = c.communicate()[1]\n",
    "print value"
   ]
  },
  {
   "cell_type": "code",
   "execution_count": null,
   "metadata": {
    "collapsed": false
   },
   "outputs": [],
   "source": [
    "type(value)"
   ]
  },
  {
   "cell_type": "code",
   "execution_count": null,
   "metadata": {
    "collapsed": false
   },
   "outputs": [],
   "source": [
    "class Module(yarp.RFModule):\n",
    "    def configure(self, rf):\n",
    "        \n",
    "        self.out_port = yarp.Port()\n",
    "        self.out_port.open(\"/test/out:o\")\n",
    "        return True\n",
    "    \n",
    "    def close(self):\n",
    "        self.out_port.close()\n",
    "        \n",
    "    def interruptModule(self):\n",
    "        pass\n",
    "    \n",
    "    def getPeriod(self):\n",
    "        return 1.\n",
    "    \n",
    "    def updateModule(self):\n",
    "        b = yarp.Bottle()\n",
    "        b.addString(\"ici\")\n",
    "        self.out_port.write(b)\n",
    "        # Don't forget the following:\n",
    "        return True"
   ]
  },
  {
   "cell_type": "code",
   "execution_count": null,
   "metadata": {
    "collapsed": true
   },
   "outputs": [],
   "source": []
  },
  {
   "cell_type": "code",
   "execution_count": null,
   "metadata": {
    "collapsed": false
   },
   "outputs": [],
   "source": [
    "yarp.Network.init()\n",
    "mod = Module()\n",
    "argv = ['samSupervisor_rfMod.py', '--from', 'default.ini']\n",
    "rf = yarp.ResourceFinder()\n",
    "rf.setVerbose(True);\n",
    "rf.setDefaultContext(\"samSupervisor\");\n",
    "rf.setDefaultConfigFile(\"default.ini\");\n",
    "rf.configure(argv)\n",
    "mod.configure(rf)\n",
    "mod.runModule(rf)\n",
    "\n"
   ]
  },
  {
   "cell_type": "code",
   "execution_count": null,
   "metadata": {
    "collapsed": false
   },
   "outputs": [],
   "source": [
    "del mod"
   ]
  },
  {
   "cell_type": "code",
   "execution_count": null,
   "metadata": {
    "collapsed": true
   },
   "outputs": [],
   "source": []
  }
 ],
 "metadata": {
  "kernelspec": {
   "display_name": "Python 2",
   "language": "python",
   "name": "python2"
  },
  "language_info": {
   "codemirror_mode": {
    "name": "ipython",
    "version": 2
   },
   "file_extension": ".py",
   "mimetype": "text/x-python",
   "name": "python",
   "nbconvert_exporter": "python",
   "pygments_lexer": "ipython2",
   "version": "2.7.11"
  }
 },
 "nbformat": 4,
 "nbformat_minor": 0
}
