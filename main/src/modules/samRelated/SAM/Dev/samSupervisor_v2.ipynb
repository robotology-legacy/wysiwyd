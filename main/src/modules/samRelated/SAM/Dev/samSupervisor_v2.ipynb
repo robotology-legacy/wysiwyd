{
 "cells": [
  {
   "cell_type": "code",
   "execution_count": 1,
   "metadata": {
    "collapsed": false
   },
   "outputs": [],
   "source": [
    "import matplotlib.pyplot as plt\n",
    "import pylab as pb\n",
    "import sys \n",
    "from sys import executable\n",
    "import subprocess\n",
    "from subprocess import Popen, PIPE\n",
    "import pickle\n",
    "import os\n",
    "from os import listdir, walk, system\n",
    "from os.path import isfile, join, isdir\n",
    "import numpy\n",
    "import time\n",
    "import operator\n",
    "import datetime\n",
    "import signal\n",
    "import readline\n",
    "import optparse\n",
    "import importlib\n",
    "import numpy as np\n",
    "\n",
    "try: import simplejson as json\n",
    "except ImportError: import json\n",
    "\n",
    "from collections import OrderedDict\n",
    "from spearmint.tasks.task_group       import TaskGroup\n",
    "\n",
    "from spearmint.resources.resource import parse_resources_from_config\n",
    "from spearmint.resources.resource import print_resources_status\n"
   ]
  },
  {
   "cell_type": "code",
   "execution_count": 15,
   "metadata": {
    "collapsed": true
   },
   "outputs": [],
   "source": [
    "cmd = 'ipython /usr/local/bin/train_actions2.py -- /home/daniel/SAM_Data_Models/Data/Actions2 /home/daniel/SAM_Data_Models/Models/Actions2__train_actions2__mrd__exp2.pickle train_actions2 update' "
   ]
  },
  {
   "cell_type": "code",
   "execution_count": 16,
   "metadata": {
    "collapsed": true
   },
   "outputs": [],
   "source": [
    "command = \"bash -c \\\"\" + cmd + \"; exec bash\\\"\""
   ]
  },
  {
   "cell_type": "code",
   "execution_count": 17,
   "metadata": {
    "collapsed": true
   },
   "outputs": [],
   "source": [
    "windowed = True"
   ]
  },
  {
   "cell_type": "code",
   "execution_count": 18,
   "metadata": {
    "collapsed": true
   },
   "outputs": [],
   "source": [
    "if(windowed):\n",
    "    c = subprocess.Popen(['xterm', '-e', command], shell=False)\n",
    "else:\n",
    "    c = subprocess.Popen([cmd], shell=True, stdout=subprocess.PIPE, stderr=subprocess.PIPE)"
   ]
  },
  {
   "cell_type": "code",
   "execution_count": 14,
   "metadata": {
    "collapsed": false
   },
   "outputs": [
    {
     "data": {
      "text/plain": [
       "str"
      ]
     },
     "execution_count": 14,
     "metadata": {},
     "output_type": "execute_result"
    }
   ],
   "source": [
    "type(value)"
   ]
  },
  {
   "cell_type": "code",
   "execution_count": null,
   "metadata": {
    "collapsed": false
   },
   "outputs": [],
   "source": [
    "class Module(yarp.RFModule):\n",
    "    def configure(self, rf):\n",
    "        \n",
    "        self.out_port = yarp.Port()\n",
    "        self.out_port.open(\"/test/out:o\")\n",
    "        return True\n",
    "    \n",
    "    def close(self):\n",
    "        self.out_port.close()\n",
    "        \n",
    "    def interruptModule(self):\n",
    "        pass\n",
    "    \n",
    "    def getPeriod(self):\n",
    "        return 1.\n",
    "    \n",
    "    def updateModule(self):\n",
    "        b = yarp.Bottle()\n",
    "        b.addString(\"ici\")\n",
    "        self.out_port.write(b)\n",
    "        # Don't forget the following:\n",
    "        return True"
   ]
  },
  {
   "cell_type": "code",
   "execution_count": null,
   "metadata": {
    "collapsed": true
   },
   "outputs": [],
   "source": []
  },
  {
   "cell_type": "code",
   "execution_count": null,
   "metadata": {
    "collapsed": false
   },
   "outputs": [],
   "source": [
    "yarp.Network.init()\n",
    "mod = Module()\n",
    "argv = ['samSupervisor_rfMod.py', '--from', 'default.ini']\n",
    "rf = yarp.ResourceFinder()\n",
    "rf.setVerbose(True);\n",
    "rf.setDefaultContext(\"samSupervisor\");\n",
    "rf.setDefaultConfigFile(\"default.ini\");\n",
    "rf.configure(argv)\n",
    "mod.configure(rf)\n",
    "mod.runModule(rf)\n",
    "\n"
   ]
  },
  {
   "cell_type": "code",
   "execution_count": null,
   "metadata": {
    "collapsed": false
   },
   "outputs": [],
   "source": [
    "del mod"
   ]
  },
  {
   "cell_type": "code",
   "execution_count": null,
   "metadata": {
    "collapsed": true
   },
   "outputs": [],
   "source": []
  }
 ],
 "metadata": {
  "kernelspec": {
   "display_name": "Python 2",
   "language": "python",
   "name": "python2"
  },
  "language_info": {
   "codemirror_mode": {
    "name": "ipython",
    "version": 2
   },
   "file_extension": ".py",
   "mimetype": "text/x-python",
   "name": "python",
   "nbconvert_exporter": "python",
   "pygments_lexer": "ipython2",
   "version": "2.7.11"
  }
 },
 "nbformat": 4,
 "nbformat_minor": 0
}
