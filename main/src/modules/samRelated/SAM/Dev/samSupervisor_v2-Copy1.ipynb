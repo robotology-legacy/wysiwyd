{
 "cells": [
  {
   "cell_type": "code",
   "execution_count": null,
   "metadata": {
    "collapsed": false
   },
   "outputs": [],
   "source": [
    "import matplotlib.pyplot as plt\n",
    "from SAM.SAM_Core import SAMCore\n",
    "from SAM.SAM_Drivers import SAMDriver_interaction\n",
    "import pylab as pb\n",
    "import sys \n",
    "from sys import executable\n",
    "import subprocess\n",
    "from subprocess import Popen, PIPE\n",
    "import pickle\n",
    "import ipyparallel as ipp\n",
    "import os\n",
    "from os import listdir, walk, system\n",
    "from os.path import isfile, join, isdir\n",
    "import numpy\n",
    "import time\n",
    "import operator\n",
    "import numpy as np\n",
    "import datetime\n",
    "import signal\n",
    "from ConfigParser import SafeConfigParser"
   ]
  },
  {
   "cell_type": "code",
   "execution_count": null,
   "metadata": {
    "collapsed": false
   },
   "outputs": [],
   "source": [
    "devnull = open('/dev/null', 'w')"
   ]
  },
  {
   "cell_type": "code",
   "execution_count": null,
   "metadata": {
    "collapsed": false
   },
   "outputs": [],
   "source": [
    "cmd = 'ipcluster start -n 4'\n",
    "command = \"bash -c \\\"\" + cmd + \"\\\"\"\n",
    "a = subprocess.Popen([cmd], shell=True, stdout=devnull, stderr=devnull)"
   ]
  },
  {
   "cell_type": "code",
   "execution_count": null,
   "metadata": {
    "collapsed": false
   },
   "outputs": [],
   "source": [
    "a = subprocess.Popen(['ipcluster start -n 4'], shell=True)"
   ]
  },
  {
   "cell_type": "code",
   "execution_count": null,
   "metadata": {
    "collapsed": false
   },
   "outputs": [],
   "source": [
    "a.pid"
   ]
  },
  {
   "cell_type": "code",
   "execution_count": null,
   "metadata": {
    "collapsed": false
   },
   "outputs": [],
   "source": [
    "ret = a.poll()\n",
    "if(ret == None):\n",
    "    print \"Process still open\"\n",
    "else:\n",
    "    print \"Process terminated\""
   ]
  },
  {
   "cell_type": "code",
   "execution_count": null,
   "metadata": {
    "collapsed": false
   },
   "outputs": [],
   "source": [
    "a.send_signal(signal.SIGINT)\n",
    "a.wait()"
   ]
  },
  {
   "cell_type": "markdown",
   "metadata": {},
   "source": [
    "%%%%%%%%%%%%%%%%%%%%%%%%%%%%%%%%%%%%%%%%%%%%%%%"
   ]
  },
  {
   "cell_type": "code",
   "execution_count": null,
   "metadata": {
    "collapsed": false
   },
   "outputs": [],
   "source": [
    "b = subprocess.Popen(['ipcluster', 'start', '-n', '4'], shell=False)"
   ]
  },
  {
   "cell_type": "code",
   "execution_count": null,
   "metadata": {
    "collapsed": false
   },
   "outputs": [],
   "source": [
    "b.wait()"
   ]
  },
  {
   "cell_type": "code",
   "execution_count": null,
   "metadata": {
    "collapsed": false
   },
   "outputs": [],
   "source": [
    "b.pid"
   ]
  },
  {
   "cell_type": "code",
   "execution_count": null,
   "metadata": {
    "collapsed": false
   },
   "outputs": [],
   "source": [
    "ret = b.poll()\n",
    "if(ret == None):\n",
    "    print \"Process still open\"\n",
    "else:\n",
    "    print \"Process terminated\""
   ]
  },
  {
   "cell_type": "code",
   "execution_count": null,
   "metadata": {
    "collapsed": false
   },
   "outputs": [],
   "source": [
    "b.send_signal(signal.SIGINT)\n",
    "b.wait()"
   ]
  },
  {
   "cell_type": "markdown",
   "metadata": {},
   "source": [
    "%%%%%%%%%%%%%%%%%%%%%%%%%%%%%%%%%%%%%%%%%%%%%%%"
   ]
  },
  {
   "cell_type": "code",
   "execution_count": null,
   "metadata": {
    "collapsed": false
   },
   "outputs": [],
   "source": [
    "c =subprocess.Popen(['xterm', '-e', 'ipcluster start -n 4'], shell=False)"
   ]
  },
  {
   "cell_type": "code",
   "execution_count": null,
   "metadata": {
    "collapsed": false
   },
   "outputs": [],
   "source": [
    "c.pid"
   ]
  },
  {
   "cell_type": "code",
   "execution_count": null,
   "metadata": {
    "collapsed": false
   },
   "outputs": [],
   "source": [
    "c.send_signal(signal.SIGINT)"
   ]
  },
  {
   "cell_type": "code",
   "execution_count": null,
   "metadata": {
    "collapsed": false
   },
   "outputs": [],
   "source": [
    "c.wait()"
   ]
  },
  {
   "cell_type": "markdown",
   "metadata": {},
   "source": [
    "%%%%%%%%%%%%%%%%%%%%%%%%%%%%%%%%%%%%%%%%%%%%%%%"
   ]
  },
  {
   "cell_type": "code",
   "execution_count": null,
   "metadata": {
    "collapsed": false
   },
   "outputs": [],
   "source": [
    "command = \"bash -c \\\"\" + 'ipcluster start -n 4' + \"; exec bash\\\"\"\n",
    "c =subprocess.Popen(['gnome-terminal','-e', command], shell=False)"
   ]
  },
  {
   "cell_type": "code",
   "execution_count": null,
   "metadata": {
    "collapsed": false
   },
   "outputs": [],
   "source": [
    "c.send_signal(signal.SIGINT)\n",
    "c.wait()"
   ]
  },
  {
   "cell_type": "code",
   "execution_count": null,
   "metadata": {
    "collapsed": true
   },
   "outputs": [],
   "source": [
    "command = \"bash -c \\\"\" + 'ipcluster start -n 4' + \"\\\"\"\n",
    "d =subprocess.Popen(['gnome-terminal','-e', command], shell=False)"
   ]
  },
  {
   "cell_type": "code",
   "execution_count": null,
   "metadata": {
    "collapsed": false
   },
   "outputs": [],
   "source": [
    "ret = a.poll()\n",
    "if(ret == None):\n",
    "    print \"Process still open\"\n",
    "else:\n",
    "    print \"Process terminated\""
   ]
  },
  {
   "cell_type": "code",
   "execution_count": null,
   "metadata": {
    "collapsed": true
   },
   "outputs": [],
   "source": [
    "a.send_signal(signal.SIGINT)\n",
    "a.wait()"
   ]
  },
  {
   "cell_type": "code",
   "execution_count": null,
   "metadata": {
    "collapsed": false
   },
   "outputs": [],
   "source": [
    "b = subprocess.Popen(['ipcluster','stop'], stdout=subprocess.PIPE, shell=False)"
   ]
  },
  {
   "cell_type": "code",
   "execution_count": null,
   "metadata": {
    "collapsed": false
   },
   "outputs": [],
   "source": [
    "print 'b', b.pid\n",
    "print 'a', a.pid"
   ]
  },
  {
   "cell_type": "code",
   "execution_count": null,
   "metadata": {
    "collapsed": false
   },
   "outputs": [],
   "source": [
    "a.pipe_cloexec()"
   ]
  },
  {
   "cell_type": "code",
   "execution_count": null,
   "metadata": {
    "collapsed": false
   },
   "outputs": [],
   "source": [
    "subprocess.Popen(['ipcluster','start', '-n', '4'], stdout=subprocess.PIPE, shell=False)"
   ]
  },
  {
   "cell_type": "code",
   "execution_count": null,
   "metadata": {
    "collapsed": false
   },
   "outputs": [],
   "source": [
    "subprocess.Popen(['ipcluster','stop'], stdout=subprocess.PIPE, shell=False)"
   ]
  },
  {
   "cell_type": "code",
   "execution_count": null,
   "metadata": {
    "collapsed": true
   },
   "outputs": [],
   "source": [
    "\n",
    "\n",
    "class Module(yarp.RFModule):\n",
    "    def configure(self, rf):\n",
    "        \n",
    "        print 'try'\n",
    "        #root_path = rf.check(\"root_path\")\n",
    "        root_path = rf.find(\"root_path\").asString()\n",
    "        config_path = rf.find(\"config_path\").asString()\n",
    "        print root_path\n",
    "        print config_path\n",
    "        \n",
    "        self.out_port = yarp.Port()\n",
    "        self.out_port.open(\"/test/out:o\")\n",
    "        return True\n",
    "    \n",
    "    def close(self):\n",
    "        inputBottle = yarp.Bottle()\n",
    "        print 'Interrupted'\n",
    "        try:\n",
    "            for j in self.rpcConnections:\n",
    "                j[1].write(yarp.Bottle('EXIT'), inputBottle)\n",
    "                j[1].close()\n",
    "        except:\n",
    "            pass\n",
    "\n",
    "        try:\n",
    "            self.supervisorPort.close()\n",
    "        except:\n",
    "            pass\n",
    "        \n",
    "    def interruptModule(self):\n",
    "        pass\n",
    "    \n",
    "    def getPeriod(self):\n",
    "        return 1.\n",
    "    \n",
    "    def updateModule(self):\n",
    "        b = yarp.Bottle()\n",
    "        b.addString(\"ici\")\n",
    "        self.out_port.write(b)\n",
    "        # Don't forget the following:\n",
    "        return True\n",
    "    \n"
   ]
  },
  {
   "cell_type": "code",
   "execution_count": null,
   "metadata": {
    "collapsed": false
   },
   "outputs": [],
   "source": [
    "yarp.Network.init()"
   ]
  },
  {
   "cell_type": "code",
   "execution_count": null,
   "metadata": {
    "collapsed": false
   },
   "outputs": [],
   "source": [
    "mod = Module()"
   ]
  },
  {
   "cell_type": "code",
   "execution_count": null,
   "metadata": {
    "collapsed": true
   },
   "outputs": [],
   "source": [
    "rf = yarp.ResourceFinder()"
   ]
  },
  {
   "cell_type": "code",
   "execution_count": null,
   "metadata": {
    "collapsed": false
   },
   "outputs": [],
   "source": [
    "mod.configure(rf)"
   ]
  },
  {
   "cell_type": "code",
   "execution_count": null,
   "metadata": {
    "collapsed": false
   },
   "outputs": [],
   "source": [
    "# now works\n",
    "mod.runModule(rf)"
   ]
  },
  {
   "cell_type": "code",
   "execution_count": null,
   "metadata": {
    "collapsed": false
   },
   "outputs": [],
   "source": [
    "del mod"
   ]
  },
  {
   "cell_type": "code",
   "execution_count": null,
   "metadata": {
    "collapsed": true
   },
   "outputs": [],
   "source": []
  }
 ],
 "metadata": {
  "kernelspec": {
   "display_name": "Python 2",
   "language": "python",
   "name": "python2"
  },
  "language_info": {
   "codemirror_mode": {
    "name": "ipython",
    "version": 2
   },
   "file_extension": ".py",
   "mimetype": "text/x-python",
   "name": "python",
   "nbconvert_exporter": "python",
   "pygments_lexer": "ipython2",
   "version": "2.7.11"
  }
 },
 "nbformat": 4,
 "nbformat_minor": 0
}
