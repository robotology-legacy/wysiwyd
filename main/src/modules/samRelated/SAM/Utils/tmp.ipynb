{
 "cells": [
  {
   "cell_type": "code",
   "execution_count": 18,
   "metadata": {
    "collapsed": false
   },
   "outputs": [],
   "source": [
    "\n",
    "import matplotlib.pyplot as pltt\n",
    "import pylab as plt\n",
    "import numpy as np"
   ]
  },
  {
   "cell_type": "code",
   "execution_count": 19,
   "metadata": {
    "collapsed": false
   },
   "outputs": [
    {
     "name": "stdout",
     "output_type": "stream",
     "text": [
      "[[ -1.66258430e+00]\n",
      " [ -2.56080842e-01]\n",
      " [  9.12393962e-01]\n",
      " [  5.64626296e-01]\n",
      " [  5.78527522e-02]\n",
      " [ -8.37235617e-01]\n",
      " [  1.77131128e+00]\n",
      " [ -3.75072291e-01]\n",
      " [ -4.18519456e-05]\n",
      " [  5.58799604e-01]\n",
      " [  8.73679221e-01]\n",
      " [  8.31713588e-01]\n",
      " [  6.33613725e-01]\n",
      " [  5.65070165e-02]\n",
      " [ -4.15590063e-01]\n",
      " [ -9.48471484e-01]\n",
      " [ -1.71772318e+00]\n",
      " [ -2.94571317e-01]\n",
      " [ -1.73180647e+00]\n",
      " [ -7.58766290e-01]\n",
      " [ -1.33260540e+00]\n",
      " [ -4.33198038e-01]\n",
      " [ -1.97154943e-01]\n",
      " [  3.36557227e-01]\n",
      " [  3.42328900e-01]\n",
      " [  1.61558288e+00]\n",
      " [ -4.87387337e-02]\n",
      " [ -4.68366684e-02]\n",
      " [  9.22214334e-01]\n",
      " [ -4.69168534e-01]]\n"
     ]
    }
   ],
   "source": [
    "x=np.random.randn(30,1)\n",
    "print x\n",
    "plt.plot(x)\n",
    "plt.show()\n"
   ]
  },
  {
   "cell_type": "code",
   "execution_count": null,
   "metadata": {
    "collapsed": true
   },
   "outputs": [],
   "source": []
  }
 ],
 "metadata": {
  "kernelspec": {
   "display_name": "Python 2",
   "language": "python",
   "name": "python2"
  },
  "language_info": {
   "codemirror_mode": {
    "name": "ipython",
    "version": 2
   },
   "file_extension": ".py",
   "mimetype": "text/x-python",
   "name": "python",
   "nbconvert_exporter": "python",
   "pygments_lexer": "ipython2",
   "version": "2.7.11"
  }
 },
 "nbformat": 4,
 "nbformat_minor": 0
}
